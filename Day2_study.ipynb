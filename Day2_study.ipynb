{
  "nbformat": 4,
  "nbformat_minor": 0,
  "metadata": {
    "colab": {
      "name": "Day2_study.ipynb",
      "version": "0.3.2",
      "provenance": [],
      "collapsed_sections": [
        "yToKGAgK9VCf",
        "sPR7p6VFA08r",
        "viUn4Cv_B3IZ",
        "qmmHqWkzDuBR"
      ],
      "include_colab_link": true
    },
    "kernelspec": {
      "name": "python3",
      "display_name": "Python 3"
    }
  },
  "cells": [
    {
      "cell_type": "markdown",
      "metadata": {
        "id": "view-in-github",
        "colab_type": "text"
      },
      "source": [
        "<a href=\"https://colab.research.google.com/github/yh08037/KNU-DeepLearning/blob/master/Day2_study.ipynb\" target=\"_parent\"><img src=\"https://colab.research.google.com/assets/colab-badge.svg\" alt=\"Open In Colab\"/></a>"
      ]
    },
    {
      "metadata": {
        "id": "GEGRNBW77yUZ",
        "colab_type": "text"
      },
      "cell_type": "markdown",
      "source": [
        "# Iris Classification"
      ]
    },
    {
      "metadata": {
        "id": "6JUQM0sX7tcI",
        "colab_type": "code",
        "colab": {}
      },
      "cell_type": "code",
      "source": [
        "import tensorflow as tf\n",
        "import numpy as np\n",
        "\n",
        "\n",
        "# define data / output\n",
        "iris = datasets.load_iris()\n",
        "btgt = np.array([1. if x==0 else 0. for x in iris.target])\n",
        "iris_2d = np.array([[x[2], x[3]] for x in iris.data])\n",
        "\n",
        "#"
      ],
      "execution_count": 0,
      "outputs": []
    },
    {
      "metadata": {
        "id": "yToKGAgK9VCf",
        "colab_type": "text"
      },
      "cell_type": "markdown",
      "source": [
        "# Tensor Declaration"
      ]
    },
    {
      "metadata": {
        "id": "hAJeVppV8otd",
        "colab_type": "code",
        "colab": {
          "base_uri": "https://localhost:8080/",
          "height": 503
        },
        "outputId": "80b3ada1-6aac-4f31-a827-c9389bfec709"
      },
      "cell_type": "code",
      "source": [
        "import tensorflow as tf\n",
        "import numpy as np\n",
        "\n",
        "sess = tf.Session()\n",
        "\n",
        "row_dim = 2\n",
        "col_dim = 3\n",
        "zero_tsr = tf.zeros([row_dim, col_dim])\n",
        "ones_tsr = tf.ones([row_dim, col_dim])\n",
        "filled_tsr = tf.fill([row_dim, col_dim], 42)\n",
        "constant_tsr = tf.constant([1, 2, 3])\n",
        "print(zero_tsr, '\\n', ones_tsr, '\\n', constant_tsr, '\\n')\n",
        "print(sess.run(zero_tsr), '\\n\\n', sess.run(ones_tsr), '\\n\\n', sess.run(filled_tsr), '\\n\\n', sess.run(constant_tsr))\n",
        "\n",
        "linear_tsr = tf.linspace(start=0., stop=1., num=5)\n",
        "int_seq_tsr = tf.range(start=0, limit=10, delta=2)\n",
        "print(linear_tsr)\n",
        "print(int_seq_tsr)\n",
        "print(sess.run(linear_tsr))\n",
        "print(sess.run(int_seq_tsr))\n",
        "\n",
        "randunif_tsr = tf.random_uniform([row_dim, col_dim], minval=0, maxval=1)\n",
        "print(randunif_tsr) \n",
        "print(sess.run(randunif_tsr))\n",
        "\n",
        "randnorm_tsr = tf.random_normal([row_dim, col_dim], mean=0.0, stddev=1.0)\n",
        "print(randnorm_tsr)\n",
        "print(sess.run(randnorm_tsr))\n",
        "\n",
        "truncnorm_tsr =tf.truncated_normal([row_dim, col_dim], mean=0.0, stddev=1.0)\n",
        "print(truncnorm_tsr)\n",
        "print(sess.run(truncnorm_tsr))"
      ],
      "execution_count": 5,
      "outputs": [
        {
          "output_type": "stream",
          "text": [
            "Tensor(\"zeros_3:0\", shape=(2, 3), dtype=float32) \n",
            " Tensor(\"ones_2:0\", shape=(2, 3), dtype=float32) \n",
            " Tensor(\"Const_2:0\", shape=(3,), dtype=int32) \n",
            "\n",
            "[[0. 0. 0.]\n",
            " [0. 0. 0.]] \n",
            "\n",
            " [[1. 1. 1.]\n",
            " [1. 1. 1.]] \n",
            "\n",
            " [[42 42 42]\n",
            " [42 42 42]] \n",
            "\n",
            " [1 2 3]\n",
            "Tensor(\"LinSpace_1:0\", shape=(5,), dtype=float32)\n",
            "Tensor(\"range_1:0\", shape=(5,), dtype=int32)\n",
            "[0.   0.25 0.5  0.75 1.  ]\n",
            "[0 2 4 6 8]\n",
            "Tensor(\"random_uniform_1:0\", shape=(2, 3), dtype=float32)\n",
            "[[0.34326506 0.5087148  0.40556657]\n",
            " [0.11562657 0.25181007 0.36291468]]\n",
            "Tensor(\"random_normal_1:0\", shape=(2, 3), dtype=float32)\n",
            "[[ 0.0188682  -0.64926577 -0.780249  ]\n",
            " [-0.1961752  -1.2150136  -0.79979074]]\n",
            "Tensor(\"truncated_normal:0\", shape=(2, 3), dtype=float32)\n",
            "[[-1.2745099   1.1561878   0.08467864]\n",
            " [-0.12166663 -1.8927246   0.74318963]]\n"
          ],
          "name": "stdout"
        }
      ]
    },
    {
      "metadata": {
        "id": "sPR7p6VFA08r",
        "colab_type": "text"
      },
      "cell_type": "markdown",
      "source": [
        "# Variables\n",
        "* 텐서플로우가 알고리즘을 최적화하기 위해 어떻게 이들을 변화시키는지 계속 추적할 수 있게하는 알고리즘의 매개변수"
      ]
    },
    {
      "metadata": {
        "id": "viUn4Cv_B3IZ",
        "colab_type": "text"
      },
      "cell_type": "markdown",
      "source": [
        "## Variables from tensors\n",
        "\n",
        "* 주로 인공신경망의 가중치와 같은  학습가능한 매개변수들\n",
        "* 텐서를 감싸므로써 대응하는 변수를 생성한다"
      ]
    },
    {
      "metadata": {
        "id": "6d0ozEA6Bp4V",
        "colab_type": "code",
        "colab": {
          "base_uri": "https://localhost:8080/",
          "height": 35
        },
        "outputId": "b7150ced-c0e5-4a07-d9fc-c88430a18e7c"
      },
      "cell_type": "code",
      "source": [
        "my_var = tf.Variable(tf.zeros([row_dim, col_dim]))\n",
        "print(my_var)"
      ],
      "execution_count": 25,
      "outputs": [
        {
          "output_type": "stream",
          "text": [
            "<tf.Variable 'Variable_2:0' shape=(2, 3) dtype=float32_ref>\n"
          ],
          "name": "stdout"
        }
      ]
    },
    {
      "metadata": {
        "id": "qmmHqWkzDuBR",
        "colab_type": "text"
      },
      "cell_type": "markdown",
      "source": [
        "\n",
        "## Variables from numpy arrays, or constant (검토 필요)\n",
        "\n",
        "* 메소드 기본형 : convert_to_tenser(value, dtype=None, name=None, preferred_type=None)"
      ]
    },
    {
      "metadata": {
        "id": "8I9yAJrEEEFU",
        "colab_type": "code",
        "colab": {
          "base_uri": "https://localhost:8080/",
          "height": 71
        },
        "outputId": "7898fc99-121d-4ffd-ac82-de761334abc2"
      },
      "cell_type": "code",
      "source": [
        "print(tf.convert_to_tensor(tf.constant([[1.0, 2.0], [3.0, 4.0]])))\n",
        "print(tf.convert_to_tensor([[1.0, 2.0], [3.0, 4.0]]))\n",
        "print(tf.convert_to_tensor(np.array([[1.0, 2.0], [3.0, 4.0]], dtype=np.float32)))"
      ],
      "execution_count": 24,
      "outputs": [
        {
          "output_type": "stream",
          "text": [
            "Tensor(\"Const_18:0\", shape=(2, 2), dtype=float32)\n",
            "Tensor(\"Const_19:0\", shape=(2, 2), dtype=float32)\n",
            "Tensor(\"Const_20:0\", shape=(2, 2), dtype=float32)\n"
          ],
          "name": "stdout"
        }
      ]
    },
    {
      "metadata": {
        "id": "4qHxvKM1G0d4",
        "colab_type": "text"
      },
      "cell_type": "markdown",
      "source": [
        "## Variables intialization methods\n",
        "\n",
        "* 가장 대표적인 방법은 global_variables_initializer() 메소드인데, 이는 그래프 안에서 우리가 만든 모든 변수를 초기화시키는 연산을 생성한다\n",
        "\n",
        "* 또는 한 변수를 다른 변수를 초기화한 결과를 기반으로 초기화하려면 다음과 같이 할 수 있다"
      ]
    },
    {
      "metadata": {
        "id": "Cmr5qcZXFgXw",
        "colab_type": "code",
        "colab": {}
      },
      "cell_type": "code",
      "source": [
        "sess = tf.Session()\n",
        "first_var = tf.Variables(tf.zeros([2, 3]))\n",
        "sess.run(first_var.initializer)\n",
        "second_var = tf.Variable(tf.zeros_like(first_var))  # first_var 에 의존\n",
        "sess.run(second_var.initializer)"
      ],
      "execution_count": 0,
      "outputs": []
    },
    {
      "metadata": {
        "id": "SIDAZDUzIRxi",
        "colab_type": "text"
      },
      "cell_type": "markdown",
      "source": [
        "# Placeholders\n",
        "* 특정한 타입이나 모양의 데이터를 feed in 할 수 있게 해주는 객체\n",
        "* 연산의 예상된 결과와 같은 computational graph의 결과에 의존\n",
        "* 그저 그래프안에 feed in 되기 위한 자리만을 잡고 있음\n",
        "* 세션에서 feed_dict 인자를 통하여 데이터를 얻는다\n"
      ]
    },
    {
      "metadata": {
        "id": "eUA4jrICJq8d",
        "colab_type": "code",
        "colab": {
          "base_uri": "https://localhost:8080/",
          "height": 89
        },
        "outputId": "e8d3f95d-52af-4145-c960-99444aef46c4"
      },
      "cell_type": "code",
      "source": [
        "sess = tf.Session()\n",
        "x = tf.placeholder(tf.float32, shape=[2, 2])\n",
        "y = tf.identity(x)\n",
        "\n",
        "x_vals = np.random.rand(2, 2)\n",
        "sess.run(y, feed_dict={x:x_vals})          # 데이터를 feed 만 한다\n",
        "temp = sess.run(y, feed_dict={x:x_vals})   # 데이터를 feed 하고 temp 에 그 값을 저장한다\n",
        "\n",
        "print(x_vals)\n",
        "print(temp)\n"
      ],
      "execution_count": 31,
      "outputs": [
        {
          "output_type": "stream",
          "text": [
            "[[0.53452392 0.16960416]\n",
            " [0.89727193 0.99758985]]\n",
            "[[0.5345239  0.16960415]\n",
            " [0.89727193 0.9975898 ]]\n"
          ],
          "name": "stdout"
        }
      ]
    },
    {
      "metadata": {
        "id": "VoyLcP7_IWH5",
        "colab_type": "text"
      },
      "cell_type": "markdown",
      "source": [
        "# Implementing Activation Function\n",
        "\n",
        "* 텐서플로우의 뉴럴 네트워크 라이브러리 (nn) 안에 포함되어있음\n",
        "* 미리 정의된 activation function 을 import 하여 사용 \n"
      ]
    },
    {
      "metadata": {
        "id": "iPnXaN4xQrGZ",
        "colab_type": "code",
        "colab": {
          "base_uri": "https://localhost:8080/",
          "height": 365
        },
        "outputId": "3312e596-3111-4c52-e58e-15129610d8e1"
      },
      "cell_type": "code",
      "source": [
        "import tensorflow as tf\n",
        "import matplotlib.pyplot as plt\n",
        "\n",
        "\n",
        "sess = tf.Session()\n",
        "\n",
        "x = tf.linspace(start=-3., stop=7., num=50)\n",
        "\n",
        "# ReLU (rectified linear unit) : max(0, x)\n",
        "plt.plot(sess.run(x), sess.run(tf.nn.relu(x)), label='ReLU')\n",
        "\n",
        "# ReLU6 : min(max(0, x), 6)\n",
        "plt.plot(sess.run(x), sess.run(tf.nn.relu6(x)), label='ReLU6')\n",
        "\n",
        "# Sigmoid function : -1(1+exp(-x))\n",
        "plt.plot(sess.run(x), sess.run(tf.nn.sigmoid(x)), label='Sigmoid')\n",
        "\n",
        "# Hyper tangent : ((exp(x)-exp(-x))/(exp(x)+exp(-x))\n",
        "plt.plot(sess.run(x), sess.run(tf.nn.tanh(x)), label='tanh')\n",
        "\n",
        "# Softsign : x/(abs(x)+1)\n",
        "plt.plot(sess.run(x), sess.run(tf.nn.softsign(x)), label='Softsign')\n",
        "\n",
        "# Softplus : log(exp(x)+1\n",
        "plt.plot(sess.run(x), sess.run(tf.nn.softplus(x)), label='Softplus')\n",
        "\n",
        "# Esponential Linear Unit (ELU) : (exp(x)+1) if x < 0 else x\n",
        "plt.plot(sess.run(x), sess.run(tf.nn.elu(x)), label='ELU')\n",
        "\n",
        "plt.legend()\n"
      ],
      "execution_count": 38,
      "outputs": [
        {
          "output_type": "execute_result",
          "data": {
            "text/plain": [
              "<matplotlib.legend.Legend at 0x7f042635e7b8>"
            ]
          },
          "metadata": {
            "tags": []
          },
          "execution_count": 38
        },
        {
          "output_type": "display_data",
          "data": {
            "image/png": "[encoded data removed]",
            "text/plain": [
              "<Figure size 576x396 with 1 Axes>"
            ]
          },
          "metadata": {
            "tags": []
          }
        }
      ]
    },
    {
      "metadata": {
        "id": "D-JLinYATAc5",
        "colab_type": "code",
        "colab": {}
      },
      "cell_type": "code",
      "source": [
        ""
      ],
      "execution_count": 0,
      "outputs": []
    }
  ]
}