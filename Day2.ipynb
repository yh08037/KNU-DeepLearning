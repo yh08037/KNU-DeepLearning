{
  "nbformat": 4,
  "nbformat_minor": 0,
  "metadata": {
    "colab": {
      "name": "Day2.ipynb",
      "version": "0.3.2",
      "provenance": [],
      "collapsed_sections": [
        "z-II1PFYQlyK",
        "bVdGHGJFPlEJ",
        "Q9sUikz9V8df",
        "IaSQPYykX-LQ",
        "mNyLxVKCmDav",
        "9nz7AKN8mVOC",
        "VkP3_xsUof2c",
        "yS9-R4BXrwoE"
      ],
      "include_colab_link": true
    },
    "kernelspec": {
      "name": "python3",
      "display_name": "Python 3"
    },
    "accelerator": "GPU"
  },
  "cells": [
    {
      "cell_type": "markdown",
      "metadata": {
        "id": "view-in-github",
        "colab_type": "text"
      },
      "source": [
        "<a href=\"https://colab.research.google.com/github/yh08037/KNU-DeepLearning/blob/master/Day2.ipynb\" target=\"_parent\"><img src=\"https://colab.research.google.com/assets/colab-badge.svg\" alt=\"Open In Colab\"/></a>"
      ]
    },
    {
      "metadata": {
        "id": "LlmCXf9RcBkN",
        "colab_type": "code",
        "colab": {}
      },
      "cell_type": "code",
      "source": [
        ""
      ],
      "execution_count": 0,
      "outputs": []
    },
    {
      "metadata": {
        "id": "WpReH_aTcBcA",
        "colab_type": "code",
        "colab": {}
      },
      "cell_type": "code",
      "source": [
        ""
      ],
      "execution_count": 0,
      "outputs": []
    },
    {
      "metadata": {
        "id": "z-II1PFYQlyK",
        "colab_type": "text"
      },
      "cell_type": "markdown",
      "source": [
        "# Google Drive 마운트 / 파일 입출력 스트림 테스트"
      ]
    },
    {
      "metadata": {
        "id": "EP9Sp9TKIjvK",
        "colab_type": "code",
        "outputId": "f5f89c1e-7c87-4333-cb59-2a5cd37cb973",
        "colab": {
          "base_uri": "https://localhost:8080/",
          "height": 55
        }
      },
      "cell_type": "code",
      "source": [
        "from google.colab import drive\n",
        "drive.mount('/content/gdrive')\n",
        "\n",
        "with open('/content/gdrive/My Drive/Colab Notebooks/Result/fwtest.txt', 'w') as f:\n",
        "    f.write('Hello Google Drive!')"
      ],
      "execution_count": 0,
      "outputs": [
        {
          "output_type": "stream",
          "text": [
            "Drive already mounted at /content/gdrive; to attempt to forcibly remount, call drive.mount(\"/content/gdrive\", force_remount=True).\n"
          ],
          "name": "stdout"
        }
      ]
    },
    {
      "metadata": {
        "id": "bVdGHGJFPlEJ",
        "colab_type": "text"
      },
      "cell_type": "markdown",
      "source": [
        "# Tensor 선언"
      ]
    },
    {
      "metadata": {
        "id": "Y1miAxrFPksB",
        "colab_type": "code",
        "outputId": "33868ab6-f4da-48a2-d96b-6e401366bd6c",
        "colab": {
          "base_uri": "https://localhost:8080/",
          "height": 35
        }
      },
      "cell_type": "code",
      "source": [
        "import tensorflow as tf\n",
        "zero_tsr = tf.zeros([2, 3])\n",
        "print(zero_tsr)"
      ],
      "execution_count": 0,
      "outputs": [
        {
          "output_type": "stream",
          "text": [
            "Tensor(\"zeros:0\", shape=(2, 3), dtype=float32)\n"
          ],
          "name": "stdout"
        }
      ]
    },
    {
      "metadata": {
        "id": "0w4M7kzdQn1H",
        "colab_type": "code",
        "outputId": "5552a9d5-a443-4269-8040-2ca1c140e09f",
        "colab": {
          "base_uri": "https://localhost:8080/",
          "height": 251
        }
      },
      "cell_type": "code",
      "source": [
        "import tensorflow as tf\n",
        "import numpy as np\n",
        "sess = tf.Session()\n",
        "\n",
        "row_dim = 2\n",
        "col_dim = 3\n",
        "zero_tsr = tf.zeros([row_dim, col_dim])\n",
        "ones_tsr = tf.ones([row_dim, col_dim])\n",
        "filled_tsr = tf.fill([row_dim, col_dim], 42)\n",
        "constant_tsr = tf.constant([1, 2, 3])\n",
        "print(zero_tsr, ones_tsr, '\\n', filled_tsr, '\\n', constant_tsr)\n",
        "print(sess.run(zero_tsr),'\\n', '\\n',  sess.run(ones_tsr),'\\n', '\\n',  sess.run(filled_tsr),'\\n', '\\n',  sess.run(constant_tsr))"
      ],
      "execution_count": 0,
      "outputs": [
        {
          "output_type": "stream",
          "text": [
            "Tensor(\"zeros_6:0\", shape=(2, 3), dtype=float32) Tensor(\"ones_3:0\", shape=(2, 3), dtype=float32) \n",
            " Tensor(\"Fill_2:0\", shape=(2, 3), dtype=int32) \n",
            " Tensor(\"Const_2:0\", shape=(3,), dtype=int32)\n",
            "[[0. 0. 0.]\n",
            " [0. 0. 0.]] \n",
            " \n",
            " [[1. 1. 1.]\n",
            " [1. 1. 1.]] \n",
            " \n",
            " [[42 42 42]\n",
            " [42 42 42]] \n",
            " \n",
            " [1 2 3]\n"
          ],
          "name": "stdout"
        }
      ]
    },
    {
      "metadata": {
        "id": "fh-VDnnYTaNw",
        "colab_type": "code",
        "outputId": "e3ea5327-77a0-4ee4-938a-b25f08724847",
        "colab": {
          "base_uri": "https://localhost:8080/",
          "height": 71
        }
      },
      "cell_type": "code",
      "source": [
        "randunif_tsr = tf.random_uniform([row_dim, col_dim], minval = 0, maxval = 1)\n",
        "print(randunif_tsr)\n",
        "print(sess.run(randunif_tsr))"
      ],
      "execution_count": 0,
      "outputs": [
        {
          "output_type": "stream",
          "text": [
            "Tensor(\"random_uniform:0\", shape=(2, 3), dtype=float32)\n",
            "[[0.3110211  0.83692193 0.22590756]\n",
            " [0.27713573 0.8263614  0.8187995 ]]\n"
          ],
          "name": "stdout"
        }
      ]
    },
    {
      "metadata": {
        "id": "5jeMyD4UTaCg",
        "colab_type": "code",
        "outputId": "1c92ee4d-905d-4832-c59f-7a54cf6d96e7",
        "colab": {
          "base_uri": "https://localhost:8080/",
          "height": 71
        }
      },
      "cell_type": "code",
      "source": [
        "randnorm_tsr = tf.random_normal([row_dim, col_dim], mean=0.0, stddev=1.0)\n",
        "print(randnorm_tsr)\n",
        "print(sess.run(randnorm_tsr))"
      ],
      "execution_count": 0,
      "outputs": [
        {
          "output_type": "stream",
          "text": [
            "Tensor(\"random_normal:0\", shape=(2, 3), dtype=float32)\n",
            "[[-0.7521208  -1.2719902   1.9730028 ]\n",
            " [ 0.22249623  0.04087675  0.50950027]]\n"
          ],
          "name": "stdout"
        }
      ]
    },
    {
      "metadata": {
        "id": "ruaGKhY0T_oD",
        "colab_type": "code",
        "outputId": "16443e55-2f68-428f-9811-c33e22d53acd",
        "colab": {
          "base_uri": "https://localhost:8080/",
          "height": 71
        }
      },
      "cell_type": "code",
      "source": [
        "truncnorm_tsr = tf.truncated_normal([row_dim, col_dim], mean=0.0, stddev=1.0)\n",
        "print(truncnorm_tsr)\n",
        "print(sess.run(truncnorm_tsr))"
      ],
      "execution_count": 0,
      "outputs": [
        {
          "output_type": "stream",
          "text": [
            "Tensor(\"truncated_normal:0\", shape=(2, 3), dtype=float32)\n",
            "[[-0.89141214 -1.9242679  -0.02932663]\n",
            " [-0.12771073  0.6279698   0.34238863]]\n"
          ],
          "name": "stdout"
        }
      ]
    },
    {
      "metadata": {
        "id": "Q9sUikz9V8df",
        "colab_type": "text"
      },
      "cell_type": "markdown",
      "source": [
        "# Placeholder"
      ]
    },
    {
      "metadata": {
        "id": "Rmn77wOwV8N3",
        "colab_type": "code",
        "outputId": "1d91b5f2-08dd-4479-8c4e-7fcfd699441c",
        "colab": {
          "base_uri": "https://localhost:8080/",
          "height": 89
        }
      },
      "cell_type": "code",
      "source": [
        "import math as m\n",
        "\n",
        "# variable declaration and initailization\n",
        "my_var = tf.Variable(tf.zeros([2, 3]))\n",
        "initialize_op = tf.global_variables_initializer()\n",
        "sess.run(initialize_op)\n",
        "print(sess.run(my_var))\n",
        "\n",
        "# placeholder declaration and feed_dict\n",
        "x = tf.placeholder(tf.float32, shape=[2, 2])\n",
        "y = tf.identity(x)\n",
        "x_vals = np.random.rand(2, 2)\n",
        "print(sess.run(y, feed_dict={x: x_vals}))"
      ],
      "execution_count": 0,
      "outputs": [
        {
          "output_type": "stream",
          "text": [
            "[[0. 0. 0.]\n",
            " [0. 0. 0.]]\n",
            "[[0.10914526 0.32817954]\n",
            " [0.5500483  0.45365188]]\n"
          ],
          "name": "stdout"
        }
      ]
    },
    {
      "metadata": {
        "id": "IaSQPYykX-LQ",
        "colab_type": "text"
      },
      "cell_type": "markdown",
      "source": [
        "# ActFunction"
      ]
    },
    {
      "metadata": {
        "id": "ir4GD2NiX5oZ",
        "colab_type": "code",
        "outputId": "31836748-e705-48d6-ad3f-52cc4c30e20c",
        "colab": {
          "base_uri": "https://localhost:8080/",
          "height": 419
        }
      },
      "cell_type": "code",
      "source": [
        "import tensorflow as tf\n",
        "import numpy as np\n",
        "import math as m\n",
        "import matplotlib.pyplot as plt\n",
        "import tensorflow.nn as nn\n",
        "sess = tf.Session()\n",
        "\n",
        "# Activation Functions\n",
        "x=tf.linspace(start=-3.0, stop=3.0, num=10)\n",
        "print(x)\n",
        "print(sess.run(x))\n",
        "\n",
        "y1=nn.relu(x)\n",
        "plt.plot(sess.run(x), sess.run(y1), label='ReLU')\n",
        "y2=nn.relu6(x)\n",
        "plt.plot(sess.run(x), sess.run(y2), label='ReLU6')\n",
        "y3=nn.sigmoid(x)\n",
        "plt.plot(sess.run(x), sess.run(y3), label='sigmoid')\n",
        "y4=nn.tanh(x)\n",
        "plt.plot(sess.run(x), sess.run(y4), label='tanh')\n",
        "y5=nn.softsign(x)\n",
        "plt.plot(sess.run(x), sess.run(y5), label='softsign')\n",
        "y6=nn.softplus(x)\n",
        "plt.plot(sess.run(x), sess.run(y6), label='softplus')\n",
        "y7=nn.elu(x)\n",
        "plt.plot(sess.run(x), sess.run(y7), label='elu')\n",
        "\n",
        "plt.legend(loc='lower right')"
      ],
      "execution_count": 0,
      "outputs": [
        {
          "output_type": "stream",
          "text": [
            "Tensor(\"LinSpace:0\", shape=(10,), dtype=float32)\n",
            "[-3.         -2.3333333  -1.6666666  -0.99999994 -0.33333325  0.33333343\n",
            "  1.0000001   1.6666667   2.3333335   3.0000002 ]\n"
          ],
          "name": "stdout"
        },
        {
          "output_type": "execute_result",
          "data": {
            "text/plain": [
              "<matplotlib.legend.Legend at 0x7f44297be3c8>"
            ]
          },
          "metadata": {
            "tags": []
          },
          "execution_count": 22
        },
        {
          "output_type": "display_data",
          "data": {
            "image/png": "[encoded data removed]",
            "text/plain": [
              "<Figure size 576x396 with 1 Axes>"
            ]
          },
          "metadata": {
            "tags": []
          }
        }
      ]
    },
    {
      "metadata": {
        "id": "mNyLxVKCmDav",
        "colab_type": "text"
      },
      "cell_type": "markdown",
      "source": [
        "# Layering"
      ]
    },
    {
      "metadata": {
        "id": "5X5Uc_OLbSLT",
        "colab_type": "code",
        "outputId": "87ecd044-f03b-4a98-9c7d-344c91d06ad1",
        "colab": {
          "base_uri": "https://localhost:8080/",
          "height": 305
        }
      },
      "cell_type": "code",
      "source": [
        "import tensorflow as tf\n",
        "import numpy as np\n",
        "import math as m\n",
        "import matplotlib.pyplot as plt\n",
        "import tensorflow.nn as nn\n",
        "\n",
        "sess = tf.Session()\n",
        "\n",
        "# Layering Nested Operations\n",
        "my_array = np.array([[1., 3., 5., 7., 9.], [-2.,0.,2.,4.,6.],[-6.,-3.,0.,3.,6.]])\n",
        "x_vals = np.array([my_array, my_array+1])\n",
        "print(x_vals, end=\"\\n\\n\")\n",
        "\n",
        "x_data=tf.placeholder(tf.float32, shape=np.shape(my_array))\n",
        "\n",
        "m1=tf.constant([[1.],[0.],[-1.],[2.],[4]])\n",
        "m2=tf.constant([[2.]])\n",
        "a1=tf.constant([[10.]])\n",
        "\n",
        "prod1=tf.matmul(x_data,m1)\n",
        "prod2=tf.matmul(prod1,m2)\n",
        "add1=tf.add(prod2,a1)\n",
        "\n",
        "for x_val in x_vals:\n",
        "    print(sess.run(add1,feed_dict={x_data:x_val}), end='\\n\\n')"
      ],
      "execution_count": 0,
      "outputs": [
        {
          "output_type": "stream",
          "text": [
            "[[[ 1.  3.  5.  7.  9.]\n",
            "  [-2.  0.  2.  4.  6.]\n",
            "  [-6. -3.  0.  3.  6.]]\n",
            "\n",
            " [[ 2.  4.  6.  8. 10.]\n",
            "  [-1.  1.  3.  5.  7.]\n",
            "  [-5. -2.  1.  4.  7.]]]\n",
            "\n",
            "[[102.]\n",
            " [ 66.]\n",
            " [ 58.]]\n",
            "\n",
            "[[114.]\n",
            " [ 78.]\n",
            " [ 70.]]\n",
            "\n"
          ],
          "name": "stdout"
        }
      ]
    },
    {
      "metadata": {
        "id": "9nz7AKN8mVOC",
        "colab_type": "text"
      },
      "cell_type": "markdown",
      "source": [
        "# Loss Function"
      ]
    },
    {
      "metadata": {
        "id": "kS_NicWBmdst",
        "colab_type": "code",
        "outputId": "65b793ee-07c0-4ba3-d799-0f2f86a059e2",
        "colab": {
          "base_uri": "https://localhost:8080/",
          "height": 365
        }
      },
      "cell_type": "code",
      "source": [
        "import tensorflow as tf\n",
        "import numpy as np\n",
        "import math as m\n",
        "import matplotlib.pyplot as plt\n",
        "import tensorflow.nn as nn\n",
        "sess = tf.Session()\n",
        "\n",
        "# Regression Loss\n",
        "x_vals=tf.linspace(-1.,1.,500)\n",
        "target=tf.constant(0.)\n",
        "\n",
        "# L2 norm loss\n",
        "l2_y_vals = tf.square(target-x_vals)\n",
        "l2_y_out = sess.run(l2_y_vals)\n",
        "l2_y_out_div2 = sess.run(nn.l2_loss(target-x_vals))\n",
        "\n",
        "# L1 norm loss\n",
        "l1_y_vals = tf.abs(target-x_vals)\n",
        "l1_y_out = sess.run(l1_y_vals)\n",
        "\n",
        "# Pseudo-Huber loss\n",
        "delta1 = tf.constant(0.25)\n",
        "phuber1_y_vals = tf.multiply(tf.square(delta1), tf.sqrt(1. + tf.square((target-x_vals)/delta1))-1)\n",
        "phuber1_y_out = sess.run(phuber1_y_vals)\n",
        "\n",
        "delta2 = tf.constant(5.)\n",
        "phuber2_y_vals = tf.multiply(tf.square(delta2), tf.sqrt(1. + tf.square((target-x_vals)/delta2))-1)\n",
        "phuber2_y_out = sess.run(phuber2_y_vals)\n",
        "\n",
        "plt.plot(sess.run(x_vals), phuber1_y_out,label='Huber Loss 1')\n",
        "plt.plot(sess.run(x_vals), phuber2_y_out,label='Huber Loss 2')\n",
        "plt.legend()"
      ],
      "execution_count": 0,
      "outputs": [
        {
          "output_type": "execute_result",
          "data": {
            "text/plain": [
              "<matplotlib.legend.Legend at 0x7f4426ed82e8>"
            ]
          },
          "metadata": {
            "tags": []
          },
          "execution_count": 29
        },
        {
          "output_type": "display_data",
          "data": {
            "image/png": "[encoded data removed]",
            "text/plain": [
              "<Figure size 576x396 with 1 Axes>"
            ]
          },
          "metadata": {
            "tags": []
          }
        }
      ]
    },
    {
      "metadata": {
        "id": "JkyFpdRSnIk7",
        "colab_type": "code",
        "outputId": "652b6818-36c3-42c5-f85b-9c69e9ce84ad",
        "colab": {
          "base_uri": "https://localhost:8080/",
          "height": 365
        }
      },
      "cell_type": "code",
      "source": [
        "# Classification loss\n",
        "x_vals = tf.linspace(-3.,5., 500)\n",
        "target = tf.constant(1.)\n",
        "targets = tf.fill([500,],1.)\n",
        "\n",
        "# Hinge Loss\n",
        "hinge_y_vals = tf.maximum(0., 1.-tf.multiply(target,x_vals))\n",
        "hinge_y_out = sess.run(hinge_y_vals)\n",
        "\n",
        "# Cross-entropy Loss for binary case\n",
        "xentropy_y_vals = - tf.multiply(target, tf.log(x_vals)) - tf.multiply((1.-target), tf.log(1.-x_vals))\n",
        "xentropy_y_out = sess.run(xentropy_y_vals)\n",
        "\n",
        "# Sigmoid cross entropy loss\n",
        "xentropy_sigmoid_y_vals = tf.nn.sigmoid_cross_entropy_with_logits(labels=targets, logits=x_vals)\n",
        "xentropy_sigmoid_y_out = sess.run(xentropy_sigmoid_y_vals)\n",
        "\n",
        "# Weighted Cross-entropy Loss\n",
        "weight=tf.constant(0.5)\n",
        "xentropy_weighted_y_vals = tf.nn.weighted_cross_entropy_with_logits(targets, x_vals, weight)\n",
        "xentropy_weighted_y_out = sess.run(xentropy_weighted_y_vals)\n",
        "\n",
        "plt.plot(sess.run(x_vals), hinge_y_out,label=\"Hinge Loss\")\n",
        "plt.plot(sess.run(x_vals), xentropy_y_out,label=\"Cross_Entropy Binary Loss\")\n",
        "plt.plot(sess.run(x_vals), xentropy_sigmoid_y_out,label=\"Cross_Entropy Sigmoid Loss\")\n",
        "plt.plot(sess.run(x_vals), xentropy_weighted_y_out,label=\"Weighted Cross_Entropy Loss\")\n",
        "plt.legend()"
      ],
      "execution_count": 0,
      "outputs": [
        {
          "output_type": "execute_result",
          "data": {
            "text/plain": [
              "<matplotlib.legend.Legend at 0x7f4426e17b70>"
            ]
          },
          "metadata": {
            "tags": []
          },
          "execution_count": 30
        },
        {
          "output_type": "display_data",
          "data": {
            "image/png": "[encoded data removed]",
            "text/plain": [
              "<Figure size 576x396 with 1 Axes>"
            ]
          },
          "metadata": {
            "tags": []
          }
        }
      ]
    },
    {
      "metadata": {
        "id": "ME6W9pOInPBq",
        "colab_type": "code",
        "outputId": "fa85df67-6e3a-47d7-da10-cb94f23e9fc5",
        "colab": {
          "base_uri": "https://localhost:8080/",
          "height": 53
        }
      },
      "cell_type": "code",
      "source": [
        "# Classification loss for multiple classes\n",
        "# Softmax Cross-entropy Loss\n",
        "unscaled_logits = tf.constant([[1.,-3.,10.]])\n",
        "#target_dist = tf.constant([[0.1,0.02,0.88]])\n",
        "target_dist = tf.constant([[0.0, 0.0, 1.0]]) # One-hot vector\n",
        "softmax_xentropy = tf.nn.softmax_cross_entropy_with_logits(labels=target_dist, logits=unscaled_logits)\n",
        "print(sess.run(softmax_xentropy))\n",
        "\n",
        "# Sparse Softmax Cross-entropy Loss (one-hot version --> label output)\n",
        "unscaled_logits = tf.constant([[1.,-3.,10.]])\n",
        "sparse_target_dist = tf.constant([2])\n",
        "sparse_xentropy = tf.nn.sparse_softmax_cross_entropy_with_logits(labels=sparse_target_dist,\n",
        "logits=unscaled_logits)\n",
        "print(sess.run(sparse_xentropy))"
      ],
      "execution_count": 0,
      "outputs": [
        {
          "output_type": "stream",
          "text": [
            "[0.00012564]\n",
            "[0.00012564]\n"
          ],
          "name": "stdout"
        }
      ]
    },
    {
      "metadata": {
        "id": "VkP3_xsUof2c",
        "colab_type": "text"
      },
      "cell_type": "markdown",
      "source": [
        "# Simple Linear Classifier"
      ]
    },
    {
      "metadata": {
        "id": "2tiZGYZqofaV",
        "colab_type": "code",
        "outputId": "b9b5c99b-535c-42a9-c156-2509698b321d",
        "colab": {
          "base_uri": "https://localhost:8080/",
          "height": 1265
        }
      },
      "cell_type": "code",
      "source": [
        "import tensorflow as tf\n",
        "import numpy as np\n",
        "import math as m\n",
        "import matplotlib.pyplot as plt\n",
        "import tensorflow.nn as nn\n",
        "\n",
        "# Data Setup\n",
        "x_data = np.array([[0,0],[1,0],[1,1],[0,1]])\n",
        "y_data = np.array([[0],[1],[0],[1]])\n",
        "\n",
        "# Model setting\n",
        "X=tf.placeholder(tf.float32)\n",
        "Y=tf.placeholder(tf.float32)\n",
        "\n",
        "W=tf.Variable(tf.random_uniform([2,1],-1.,1.)) # -1에서 1까지 2X1 크기 행렬\n",
        "b=tf.Variable(tf.zeros([1]))\n",
        "\n",
        "L=tf.add(tf.matmul(X,W),b)\n",
        "L=tf.nn.sigmoid(L)\n",
        "\n",
        "# loss and optimizer definition\n",
        "loss = nn.l2_loss(Y-L)\n",
        "\n",
        "optimizer = tf.train.GradientDescentOptimizer(learning_rate=0.1)\n",
        "train_op = optimizer.minimize(loss)\n",
        "\n",
        "# initialize and learn\n",
        "init=tf.global_variables_initializer()\n",
        "sess = tf.Session()\n",
        "sess.run(init)\n",
        "\n",
        "loss_step=[]\n",
        "\n",
        "for i in range(5000):\n",
        "    sess.run(train_op, feed_dict={X:x_data, Y:y_data})\n",
        "    if (i+1)%100 == 0:\n",
        "        temp_loss = sess.run(loss, feed_dict={X:x_data, Y:y_data})\n",
        "        print(i+1,temp_loss )\n",
        "    loss_step.append(temp_loss)\n",
        "\n",
        "plt.plot(loss_step)"
      ],
      "execution_count": 0,
      "outputs": [
        {
          "output_type": "stream",
          "text": [
            "100 0.51119924\n",
            "200 0.50481695\n",
            "300 0.5021242\n",
            "400 0.50093985\n",
            "500 0.50041854\n",
            "600 0.50018746\n",
            "700 0.5000844\n",
            "800 0.50003815\n",
            "900 0.5000173\n",
            "1000 0.50000787\n",
            "1100 0.5000035\n",
            "1200 0.5000016\n",
            "1300 0.5000007\n",
            "1400 0.50000036\n",
            "1500 0.5000002\n",
            "1600 0.50000006\n",
            "1700 0.50000006\n",
            "1800 0.5\n",
            "1900 0.5\n",
            "2000 0.50000006\n",
            "2100 0.5\n",
            "2200 0.5\n",
            "2300 0.49999997\n",
            "2400 0.5\n",
            "2500 0.5\n",
            "2600 0.5\n",
            "2700 0.49999994\n",
            "2800 0.5\n",
            "2900 0.5\n",
            "3000 0.5\n",
            "3100 0.49999994\n",
            "3200 0.5\n",
            "3300 0.5\n",
            "3400 0.5\n",
            "3500 0.49999997\n",
            "3600 0.49999994\n",
            "3700 0.49999994\n",
            "3800 0.49999994\n",
            "3900 0.49999997\n",
            "4000 0.49999997\n",
            "4100 0.49999994\n",
            "4200 0.5\n",
            "4300 0.5\n",
            "4400 0.5\n",
            "4500 0.5\n",
            "4600 0.5\n",
            "4700 0.5\n",
            "4800 0.5\n",
            "4900 0.5\n",
            "5000 0.5\n"
          ],
          "name": "stdout"
        },
        {
          "output_type": "execute_result",
          "data": {
            "text/plain": [
              "[<matplotlib.lines.Line2D at 0x7f44268e4cc0>]"
            ]
          },
          "metadata": {
            "tags": []
          },
          "execution_count": 46
        },
        {
          "output_type": "display_data",
          "data": {
            "image/png": "[encoded data removed]",
            "text/plain": [
              "<Figure size 576x396 with 1 Axes>"
            ]
          },
          "metadata": {
            "tags": []
          }
        }
      ]
    },
    {
      "metadata": {
        "id": "ZmYju59Ko5R9",
        "colab_type": "text"
      },
      "cell_type": "markdown",
      "source": [
        "W : 가중치 / b : bias / \n",
        "optimizer : 알고리즘 / learning_rate : 학습률"
      ]
    },
    {
      "metadata": {
        "id": "yS9-R4BXrwoE",
        "colab_type": "text"
      },
      "cell_type": "markdown",
      "source": [
        "# Simple MLP"
      ]
    },
    {
      "metadata": {
        "id": "y4Dw0QO0rvIp",
        "colab_type": "code",
        "outputId": "4ae3448e-8384-4278-e900-3b38e95a3cdd",
        "colab": {
          "base_uri": "https://localhost:8080/",
          "height": 1265
        }
      },
      "cell_type": "code",
      "source": [
        "import tensorflow as tf\n",
        "import numpy as np\n",
        "import math as m\n",
        "import matplotlib.pyplot as plt\n",
        "import tensorflow.nn as nn\n",
        "\n",
        "# Data Setup\n",
        "x_data = np.array([[0,0],[1,0],[1,1],[0,1]])\n",
        "y_data = np.array([[0],[1],[0],[1]])\n",
        "\n",
        "# Model setting\n",
        "X=tf.placeholder(tf.float32)\n",
        "Y=tf.placeholder(tf.float32)\n",
        "\n",
        "W1=tf.Variable(tf.random_uniform([2,5],-1.,1.))\n",
        "b1=tf.Variable(tf.zeros([5]))\n",
        "\n",
        "W2=tf.Variable(tf.random_uniform([5,1],-1.,1.))\n",
        "b2=tf.Variable(tf.zeros([1]))\n",
        "\n",
        "H=tf.nn.relu(tf.add(tf.matmul(X,W1),b1))\n",
        "\n",
        "L=tf.nn.sigmoid(tf.add(tf.matmul(H,W2),b2))\n",
        "\n",
        "model=tf.nn.sigmoid(L)\n",
        "\n",
        "# loss and optimizer definition\n",
        "loss = nn.l2_loss(Y-L)\n",
        "optimizer = tf.train.GradientDescentOptimizer(learning_rate=0.1)\n",
        "train_op = optimizer.minimize(loss)\n",
        "\n",
        "# initialize and learn\n",
        "init=tf.global_variables_initializer()\n",
        "\n",
        "sess = tf.Session()\n",
        "sess.run(init)\n",
        "\n",
        "loss_step=[]\n",
        "\n",
        "for i in range(5000):\n",
        "    sess.run(train_op, feed_dict={X:x_data, Y:y_data})\n",
        "    if (i+1)%100 == 0:\n",
        "        temp_loss = sess.run(loss, feed_dict={X:x_data, Y:y_data})\n",
        "        print(i+1,temp_loss )\n",
        "    loss_step.append(temp_loss)\n",
        "\n",
        "    \n",
        "plt.plot(loss_step)\n"
      ],
      "execution_count": 0,
      "outputs": [
        {
          "output_type": "stream",
          "text": [
            "100 0.42819658\n",
            "200 0.30650598\n",
            "300 0.20156035\n",
            "400 0.11757702\n",
            "500 0.071009725\n",
            "600 0.04393778\n",
            "700 0.029925276\n",
            "800 0.022053622\n",
            "900 0.017126646\n",
            "1000 0.01381718\n",
            "1100 0.011496838\n",
            "1200 0.009773998\n",
            "1300 0.008474665\n",
            "1400 0.0074554\n",
            "1500 0.0066296076\n",
            "1600 0.005960648\n",
            "1700 0.005411154\n",
            "1800 0.0049375547\n",
            "1900 0.0045398893\n",
            "2000 0.0041977307\n",
            "2100 0.0038999268\n",
            "2200 0.0036384594\n",
            "2300 0.0034097056\n",
            "2400 0.0032039308\n",
            "2500 0.0030210156\n",
            "2600 0.002855746\n",
            "2700 0.0027078227\n",
            "2800 0.0025727851\n",
            "2900 0.0024505523\n",
            "3000 0.0023382576\n",
            "3100 0.0022353365\n",
            "3200 0.0021411239\n",
            "3300 0.0020536943\n",
            "3400 0.0019727123\n",
            "3500 0.0018976425\n",
            "3600 0.0018282142\n",
            "3700 0.0017624237\n",
            "3800 0.0017012047\n",
            "3900 0.0016442403\n",
            "4000 0.0015909867\n",
            "4100 0.0015406073\n",
            "4200 0.0014929016\n",
            "4300 0.0014483123\n",
            "4400 0.0014061264\n",
            "4500 0.0013660118\n",
            "4600 0.0013280825\n",
            "4700 0.0012924399\n",
            "4800 0.0012580473\n",
            "4900 0.0012256549\n",
            "5000 0.0011953632\n"
          ],
          "name": "stdout"
        },
        {
          "output_type": "execute_result",
          "data": {
            "text/plain": [
              "[<matplotlib.lines.Line2D at 0x7f44267e24a8>]"
            ]
          },
          "metadata": {
            "tags": []
          },
          "execution_count": 47
        },
        {
          "output_type": "display_data",
          "data": {
            "image/png": "[encoded data removed]",
            "text/plain": [
              "<Figure size 576x396 with 1 Axes>"
            ]
          },
          "metadata": {
            "tags": []
          }
        }
      ]
    },
    {
      "metadata": {
        "id": "2SvMIlSksEL-",
        "colab_type": "text"
      },
      "cell_type": "markdown",
      "source": [
        "W1 : 2 X 5 행렬, W2 : 5 X 1 행렬  $\\Rightarrow$  x : 2개, hidden layer : 5개, y : 1개\n",
        "\n",
        "H : 은닉 노드 "
      ]
    },
    {
      "metadata": {
        "id": "cc3IoEOxtFWF",
        "colab_type": "text"
      },
      "cell_type": "markdown",
      "source": [
        "# MLP iris Regression"
      ]
    },
    {
      "metadata": {
        "id": "MJTZNlU_uc1Y",
        "colab_type": "code",
        "outputId": "8de0c95e-4508-4a1e-9911-8b65020b54fc",
        "colab": {
          "base_uri": "https://localhost:8080/",
          "height": 725
        }
      },
      "cell_type": "code",
      "source": [
        "import tensorflow as tf\n",
        "import numpy as np\n",
        "import math as m\n",
        "import matplotlib.pyplot as plt\n",
        "import tensorflow.nn as nn\n",
        "from sklearn import datasets\n",
        "\n",
        "# data set_up\n",
        "iris = datasets.load_iris()\n",
        "x_vals = np.array([x[0:3] for x in iris.data]) # input\n",
        "y_vals = np.array([x[3] for x in iris.data]) # target_output\n",
        "\n",
        "# 80% for training, 20% for test\n",
        "train_indices = np.random.choice(len(x_vals), round(len(x_vals)*0.8), replace=False)\n",
        "test_indices = np.array(list(set(range(len(x_vals))) - set(train_indices)))\n",
        "\n",
        "x_vals_train = x_vals[train_indices]\n",
        "x_vals_test = x_vals[test_indices]\n",
        "\n",
        "y_vals_train = y_vals[train_indices]\n",
        "y_vals_test = y_vals[test_indices]\n",
        "\n",
        "# Input Data Normalization (from -1 to 1)\n",
        "def normalize_cols(m):\n",
        "    col_max = m.max(axis=0)\n",
        "    col_min = m.min(axis=0)\n",
        "    return (m-col_min)/(col_max - col_min)\n",
        "\n",
        "x_vals_train = np.nan_to_num(normalize_cols(x_vals_train))\n",
        "x_vals_test = np.nan_to_num(normalize_cols(x_vals_test))\n",
        "\n",
        "# Model set-up\n",
        "x_data = tf.placeholder(shape=[None,3], dtype = tf.float32)\n",
        "y_target = tf.placeholder(shape=[None,1], dtype = tf.float32)\n",
        "\n",
        "H_nodes = 10\n",
        "\n",
        "W1 = tf.Variable(tf.random_normal(shape=[3,H_nodes]))\n",
        "b1 = tf.Variable(tf.random_normal(shape=[H_nodes]))\n",
        "\n",
        "W2 = tf.Variable(tf.random_normal(shape=[H_nodes,1]))\n",
        "b2 = tf.Variable(tf.random_normal(shape=[1]))\n",
        "\n",
        "H_out = tf.nn.relu(tf.add(tf.matmul(x_data,W1),b1))\n",
        "\n",
        "L_out = tf.nn.relu(tf.add(tf.matmul(H_out,W2),b2))\n",
        "\n",
        "# loss and optimizer definition\n",
        "loss = tf.reduce_mean(tf.square(y_target - L_out))\n",
        "\n",
        "#loss = tf.nn.l2_loss(y_target - L_out)\n",
        "optimizer = tf.train.GradientDescentOptimizer(0.0001)\n",
        "train_op = optimizer.minimize(loss)\n",
        "\n",
        "# Running session\n",
        "sess = tf.Session()\n",
        "init = tf.global_variables_initializer()\n",
        "sess.run(init)\n",
        "loss_vec = []\n",
        "test_loss = []\n",
        "\n",
        "for i in range(2000):\n",
        "    sess.run(train_op, feed_dict={x_data:x_vals_train, y_target:np.transpose([y_vals_train])})\n",
        "    temp_loss = sess.run(loss, feed_dict={x_data:x_vals_train, y_target:np.transpose([y_vals_train])})\n",
        "    loss_vec.append(np.sqrt(temp_loss))\n",
        "    test_temp_loss = sess.run(loss, feed_dict={x_data:x_vals_test, y_target:np.transpose([y_vals_test])})\n",
        "    test_loss.append(np.sqrt(test_temp_loss))\n",
        "    if (i+1)%100==0:\n",
        "        print(i+1, temp_loss, test_temp_loss)\n",
        "\n",
        "plt.plot(loss_vec, label='train loss')\n",
        "plt.plot(test_loss, label='test loss')\n",
        "plt.legend()\n"
      ],
      "execution_count": 10,
      "outputs": [
        {
          "output_type": "stream",
          "text": [
            "100 0.30593997 0.3700608\n",
            "200 0.23188165 0.29509863\n",
            "300 0.18616477 0.24822834\n",
            "400 0.15774098 0.2185412\n",
            "500 0.13992316 0.19904992\n",
            "600 0.12864047 0.18610643\n",
            "700 0.12139764 0.17736872\n",
            "800 0.11665977 0.17130229\n",
            "900 0.11347918 0.16694658\n",
            "1000 0.111269735 0.16369708\n",
            "1100 0.10963254 0.16114314\n",
            "1200 0.10836121 0.15905558\n",
            "1300 0.10734582 0.15730137\n",
            "1400 0.10649349 0.15577392\n",
            "1500 0.10574725 0.15440467\n",
            "1600 0.105070084 0.15314764\n",
            "1700 0.104438804 0.15197213\n",
            "1800 0.10383897 0.15085742\n",
            "1900 0.10326168 0.14978963\n",
            "2000 0.10270129 0.14875928\n"
          ],
          "name": "stdout"
        },
        {
          "output_type": "execute_result",
          "data": {
            "text/plain": [
              "<matplotlib.legend.Legend at 0x7fe6a067f748>"
            ]
          },
          "metadata": {
            "tags": []
          },
          "execution_count": 10
        },
        {
          "output_type": "display_data",
          "data": {
            "image/png": "[encoded data removed]",
            "text/plain": [
              "<Figure size 576x396 with 1 Axes>"
            ]
          },
          "metadata": {
            "tags": []
          }
        }
      ]
    },
    {
      "metadata": {
        "id": "_PfrfZhEyt0Y",
        "colab_type": "text"
      },
      "cell_type": "markdown",
      "source": [
        "# IRIS Classification"
      ]
    },
    {
      "metadata": {
        "id": "eVUAXqVkyxuA",
        "colab_type": "code",
        "colab": {
          "base_uri": "https://localhost:8080/",
          "height": 1247
        },
        "outputId": "b035eaf4-58be-45f7-985d-feae8f665dec"
      },
      "cell_type": "code",
      "source": [
        "import tensorflow as tf\n",
        "import numpy as np\n",
        "import math as m\n",
        "import matplotlib.pyplot as plt\n",
        "import tensorflow.nn as nn\n",
        "from sklearn import datasets\n",
        "\n",
        "# data set up\n",
        "iris = datasets.load_iris()\n",
        "x_vals = np.array([x[0:4] for x in iris.data])\n",
        "y_vals = np.array(iris.target)\n",
        "\n",
        "# 80% for training, 20% for test\n",
        "train_indices = np.array(np.hstack([np.linspace(0, 39, 40), np.linspace(50, 89, 40), np.linspace(100, 139, 40)]), dtype='int32')\n",
        "test_indices = np.array(list(set(range(len(x_vals))) - set(train_indices)))\n",
        "x_vals_train = x_vals[train_indices]\n",
        "x_vals_test = x_vals[test_indices]\n",
        "y_vals_train = y_vals[train_indices]\n",
        "y_vals_test = y_vals[test_indices]\n",
        "\n",
        "# Input Data Normalization (from -1 to 1)\n",
        "def normalize_cols(m):\n",
        "    col_max = m.max(axis=0)\n",
        "    col_min = m.min(axis=0)\n",
        "    return (m - col_min) / (col_max - col_min)\n",
        "\n",
        "x_vals_train = np.nan_to_num(normalize_cols(x_vals_train))\n",
        "x_vals_test = np.nan_to_num(normalize_cols(x_vals_test))\n",
        "\n",
        "# Model set-up\n",
        "x_data = tf.placeholder(shape = [None, 4], dtype = tf.float32)\n",
        "y_target = tf.placeholder(shape = [None], dtype = tf.int32)\n",
        "\n",
        "H_nodes = 10\n",
        "\n",
        "W1 = tf.Variable(tf.random_normal(shape = [4, H_nodes], mean=0.0, stddev=0.1))\n",
        "b1 = tf.Variable(tf.random_normal(shape=[H_nodes], mean=0.0, stddev=0.1))\n",
        "\n",
        "W2 = tf.Variable(tf.random_normal(shape=[H_nodes,H_nodes], mean=0.0, stddev=0.1))\n",
        "b2 = tf.Variable(tf.random_normal(shape=[H_nodes], mean=0.0, stddev=0.1))\n",
        "\n",
        "W3 = tf.Variable(tf.random_normal(shape=[H_nodes,3], mean=0.0, stddev=0.1))\n",
        "b3 = tf.Variable(tf.random_normal(shape=[3], mean=0.0, stddev=0.1))\n",
        "\n",
        "H_out= tf.nn.relu(tf.add(tf.matmul(x_data,W1),b1))\n",
        "H_out2=tf.nn.relu(tf.add(tf.matmul(H_out,W2),b2))\n",
        "L_out= tf.nn.relu(tf.add(tf.matmul(H_out2,W3),b3))\n",
        "\n",
        "# loss and optimizer definition\n",
        "#loss = tf.reduce_mean(tf.square(y_target-L_out))\n",
        "loss= tf.reduce_mean(tf.nn.sparse_softmax_cross_entropy_with_logits(labels=y_target, logits=L_out))\n",
        "\n",
        "optimizer = tf.train.GradientDescentOptimizer(0.1)\n",
        "#optimizer = tf.train.AdamOptimizer(0.01)\n",
        "train_op= optimizer.minimize(loss)\n",
        "\n",
        "# Running session\n",
        "sess= tf.Session()\n",
        "init= tf.global_variables_initializer()\n",
        "sess.run(init)\n",
        "\n",
        "loss_vec=[]\n",
        "test_loss=[]\n",
        "for i in range(5000):\n",
        "    sess.run(train_op, feed_dict={x_data:x_vals_train, y_target:y_vals_train})\n",
        "    temp_loss= sess.run(loss, feed_dict={x_data:x_vals_train, y_target:y_vals_train})\n",
        "    loss_vec.append((temp_loss))\n",
        "    test_temp_loss= sess.run(loss, feed_dict={x_data:x_vals_test, y_target:y_vals_test})\n",
        "    test_loss.append((test_temp_loss))\n",
        "    if (i+1)%100==0:\n",
        "    \tprint(i+1, temp_loss, test_temp_loss)\n",
        "\n",
        "plt.plot(loss_vec, label='train loss')\n",
        "plt.plot(test_loss, label='test loss')\n",
        "plt.legend()\n",
        "\n",
        "tout, tloss = sess.run([L_out, loss], feed_dict={x_data:x_vals_test, y_target:y_vals_test})\n",
        "\n",
        "#print(tout)\n",
        "#print(sess.run(tf.argmax(tout,axis=1)))\n",
        "#print(y_vals_test)\n",
        "\n"
      ],
      "execution_count": 4,
      "outputs": [
        {
          "output_type": "stream",
          "text": [
            "100 1.0979785 1.0978895\n",
            "200 1.0943856 1.0938028\n",
            "300 1.0405576 1.0343521\n",
            "400 0.6444425 0.62020606\n",
            "500 0.43036473 0.39313635\n",
            "600 0.26444146 0.20077655\n",
            "700 0.15384574 0.08138134\n",
            "800 0.10667114 0.037140906\n",
            "900 0.0855844 0.020096116\n",
            "1000 0.0746321 0.012477708\n",
            "1100 0.06812678 0.008535171\n",
            "1200 0.06385794 0.0062656766\n",
            "1300 0.06085414 0.0048475084\n",
            "1400 0.0586335 0.0039027622\n",
            "1500 0.056937028 0.0032387634\n",
            "1600 0.055610403 0.002754129\n",
            "1700 0.05455678 0.0023878168\n",
            "1800 0.053710062 0.0021031755\n",
            "1900 0.053023636 0.0018764785\n",
            "2000 0.052463032 0.0016921782\n",
            "2100 0.05200239 0.0015398167\n",
            "2200 0.05162169 0.0014119294\n",
            "2300 0.0513055 0.0013032799\n",
            "2400 0.05104161 0.0012098768\n",
            "2500 0.05082028 0.0011289374\n",
            "2600 0.05063382 0.0010581337\n",
            "2700 0.050476123 0.0009956907\n",
            "2800 0.05034212 0.00094021077\n",
            "2900 0.050227992 0.000890968\n",
            "3000 0.05013042 0.00084705814\n",
            "3100 0.050046686 0.00080765993\n",
            "3200 0.049974475 0.00077195594\n",
            "3300 0.049912 0.0007393571\n",
            "3400 0.049857795 0.0007089418\n",
            "3500 0.049825918 0.0006720012\n",
            "3600 0.05380725 0.000564708\n",
            "3700 0.053663358 0.0005775646\n",
            "3800 0.051306844 0.0005828061\n",
            "3900 0.05108611 0.00056749105\n",
            "4000 0.051440112 0.00054605555\n",
            "4100 0.051496763 0.00053163595\n",
            "4200 0.051237352 0.000521505\n",
            "4300 0.051069435 0.0005103276\n",
            "4400 0.051031217 0.0004978441\n",
            "4500 0.05101163 0.00048595748\n",
            "4600 0.050948698 0.0004754375\n",
            "4700 0.05086817 0.00046576135\n",
            "4800 0.05080259 0.0004563342\n",
            "4900 0.050753396 0.00044715212\n",
            "5000 0.050709683 0.00043843698\n"
          ],
          "name": "stdout"
        },
        {
          "output_type": "display_data",
          "data": {
            "image/png": "[encoded data removed]",
            "text/plain": [
              "<Figure size 576x396 with 1 Axes>"
            ]
          },
          "metadata": {
            "tags": []
          }
        }
      ]
    },
    {
      "metadata": {
        "id": "2gmkhYE-9Gxn",
        "colab_type": "code",
        "colab": {}
      },
      "cell_type": "code",
      "source": [
        ""
      ],
      "execution_count": 0,
      "outputs": []
    }
  ]
}